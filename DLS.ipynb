{
 "cells": [
  {
   "cell_type": "markdown",
   "metadata": {},
   "source": [
    "# DLS"
   ]
  },
  {
   "cell_type": "code",
   "execution_count": 27,
   "metadata": {},
   "outputs": [],
   "source": [
    "# Import libraries\n",
    "import glob\n",
    "import os\n",
    "import pandas as pd\n",
    "import numpy as np\n",
    "\n",
    "import micasense.dls as dls\n",
    "import micasense.imageset as imageset\n",
    "\n",
    "import warnings\n",
    "warnings.filterwarnings('ignore')"
   ]
  },
  {
   "cell_type": "code",
   "execution_count": 28,
   "metadata": {},
   "outputs": [],
   "source": [
    "#Input Directory\n",
    "inDir = r'C:\\Users\\cdelgado\\Downloads'           \n",
    "os.chdir(inDir)"
   ]
  },
  {
   "cell_type": "code",
   "execution_count": 29,
   "metadata": {},
   "outputs": [],
   "source": [
    "#Files\n",
    "rawFiles = glob.glob('JSTAR-2020\\**\\**\\**\\**SET')"
   ]
  },
  {
   "cell_type": "code",
   "execution_count": 30,
   "metadata": {
    "scrolled": false
   },
   "outputs": [
    {
     "name": "stdout",
     "output_type": "stream",
     "text": [
      "Processing dataset:2017B-1\n",
      "Processing dataset:2017B-2\n",
      "Processing dataset:2017B-3\n",
      "Processing dataset:2017B-4\n",
      "Processing dataset:2018B-1\n",
      "Processing dataset:2019A-1\n",
      "Processing dataset:2019A-2\n",
      "Processing dataset:2019A-3\n",
      "Processing dataset:2019A-4\n",
      "Processing dataset:2019B-1\n",
      "Processing dataset:2019B-2\n",
      "Processing dataset:2019B-3\n"
     ]
    }
   ],
   "source": [
    "#Do the job!\n",
    "DLS_stats = pd.DataFrame()\n",
    "\n",
    "for rawFile in rawFiles:\n",
    "    dataset = rawFile.split(\"\\\\\")[3]\n",
    "    season = rawFile.split(\"\\\\\")[1]\n",
    "    print('Processing dataset:' + dataset)\n",
    "    \n",
    "    #Import Capture data into Pandas DataFrame\n",
    "    imgset = imageset.ImageSet.from_directory(rawFile)\n",
    "    data, columns = imgset.as_nested_lists()\n",
    "    dlsData = pd.DataFrame.from_records(data, index='timestamp', columns=columns)\n",
    "    \n",
    "    #Separating ground and flight images\n",
    "    cutoff_altitude = 997\n",
    "    dlsData = dlsData[dlsData.altitude>cutoff_altitude]\n",
    "    \n",
    "    #location\n",
    "    location = dlsData[['latitude', 'longitude', 'altitude']]\n",
    "    tuples = [tuple(x) for x in location.values]\n",
    "    dlsData['location']=tuples\n",
    "    \n",
    "    #pose\n",
    "    dls_pose = dlsData[['dls-yaw', 'dls-pitch', 'dls-roll']]\n",
    "    tuples = [tuple(x) for x in dls_pose.values]\n",
    "    dlsData['dls_pose']=tuples\n",
    "    \n",
    "    #Computing Solar orientation\n",
    "    compute_sun_angle = dlsData[['location', 'dls_pose']]\n",
    "    compute_sun_angle['utc_time'] = dlsData.index\n",
    "    dls_orientation_vector = np.array([0,0,-1])\n",
    "    \n",
    "    dlsData['solar_zenith']=[np.degrees(dls.compute_sun_angle(x[0],\n",
    "                          (0,0,0),\n",
    "                          x[2],\n",
    "                          dls_orientation_vector)[2]) for x in compute_sun_angle.values]\n",
    "    \n",
    "    dlsData['solar_azimuth']=[np.degrees(dls.compute_sun_angle(x[0],\n",
    "                      (0,0,0),\n",
    "                      x[2],\n",
    "                      dls_orientation_vector)[4]) for x in compute_sun_angle.values]\n",
    "    \n",
    "    #Computing Irradiance\n",
    "    irr_col = [col for col in dlsData if col.startswith((\"irr\"))]  \n",
    "    dlsData['irr-avg'] = dlsData[irr_col].mean(axis = 1, skipna = True) \n",
    "\n",
    "    #Results\n",
    "    columns = ['irr-avg', 'solar_zenith', 'solar_azimuth']\n",
    "    local_stats = dlsData[columns].mean()\n",
    "    local_stats['SEASON'] = season\n",
    "    local_stats['DATASET'] = dataset\n",
    "    DLS_stats = DLS_stats.append(local_stats, ignore_index=True)\n",
    "\n",
    "DLS_stats = DLS_stats.dropna() \n",
    "\n",
    "#Save the results\n",
    "DLS_stats.to_csv('DLS.csv', index = True)"
   ]
  }
 ],
 "metadata": {
  "kernelspec": {
   "display_name": "Python 3",
   "language": "python",
   "name": "python3"
  },
  "language_info": {
   "codemirror_mode": {
    "name": "ipython",
    "version": 3
   },
   "file_extension": ".py",
   "mimetype": "text/x-python",
   "name": "python",
   "nbconvert_exporter": "python",
   "pygments_lexer": "ipython3",
   "version": "3.7.3"
  },
  "toc": {
   "nav_menu": {},
   "number_sections": true,
   "sideBar": true,
   "skip_h1_title": false,
   "toc_cell": false,
   "toc_position": {
    "height": "1238px",
    "left": "0px",
    "right": "1114.56px",
    "top": "111px",
    "width": "383px"
   },
   "toc_section_display": "block",
   "toc_window_display": true
  },
  "varInspector": {
   "cols": {
    "lenName": 16,
    "lenType": 16,
    "lenVar": 40
   },
   "kernels_config": {
    "python": {
     "delete_cmd_postfix": "",
     "delete_cmd_prefix": "del ",
     "library": "var_list.py",
     "varRefreshCmd": "print(var_dic_list())"
    },
    "r": {
     "delete_cmd_postfix": ") ",
     "delete_cmd_prefix": "rm(",
     "library": "var_list.r",
     "varRefreshCmd": "cat(var_dic_list()) "
    }
   },
   "position": {
    "height": "144px",
    "left": "1129px",
    "right": "20px",
    "top": "119px",
    "width": "350px"
   },
   "types_to_exclude": [
    "module",
    "function",
    "builtin_function_or_method",
    "instance",
    "_Feature"
   ],
   "window_display": false
  }
 },
 "nbformat": 4,
 "nbformat_minor": 2
}

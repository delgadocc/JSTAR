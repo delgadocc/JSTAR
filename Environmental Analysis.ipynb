{
 "cells": [
  {
   "cell_type": "markdown",
   "metadata": {},
   "source": [
    "# Environmental effects on classification tasks"
   ]
  },
  {
   "cell_type": "code",
   "execution_count": null,
   "metadata": {},
   "outputs": [],
   "source": [
    "# Import libraries\n",
    "import os\n",
    "import glob\n",
    "import pandas as pd\n",
    "import pipeline as pipe\n",
    "from functools import reduce"
   ]
  },
  {
   "cell_type": "code",
   "execution_count": null,
   "metadata": {},
   "outputs": [],
   "source": [
    "#Input directory\n",
    "inDir = r'D:\\OneDrive - CGIAR\\MDPI\\V4 - Copy'           \n",
    "os.chdir(inDir)"
   ]
  },
  {
   "cell_type": "code",
   "execution_count": null,
   "metadata": {},
   "outputs": [],
   "source": [
    "#Files\n",
    "dataList = []\n",
    "Files = glob.glob('*.csv')\n",
    "Files.remove('NDSI.csv')\n",
    "for filename in Files:\n",
    "    df = pd.read_csv(filename, index_col=None, header=0)\n",
    "    dataList.append(df)"
   ]
  },
  {
   "cell_type": "code",
   "execution_count": null,
   "metadata": {},
   "outputs": [],
   "source": [
    "#Merge\n",
    "df_final = reduce(lambda left,right: pd.merge(left,right, on=['DATASET'], how='inner', validate = 'one_to_one'), dataList)"
   ]
  },
  {
   "cell_type": "code",
   "execution_count": null,
   "metadata": {},
   "outputs": [],
   "source": [
    "#Correlations\n",
    "mean_corr = pipe.calculate_corr(df_final[['NDWI_MEAN','irr-avg','solar_azimuth','solar_zenith','TP']])\n",
    "mean_corr[['TP']].T.drop('TP', axis = 1)"
   ]
  }
 ],
 "metadata": {
  "kernelspec": {
   "display_name": "Python [conda env:micasense] *",
   "language": "python",
   "name": "conda-env-micasense-py"
  },
  "language_info": {
   "codemirror_mode": {
    "name": "ipython",
    "version": 3
   },
   "file_extension": ".py",
   "mimetype": "text/x-python",
   "name": "python",
   "nbconvert_exporter": "python",
   "pygments_lexer": "ipython3",
   "version": "3.7.3"
  }
 },
 "nbformat": 4,
 "nbformat_minor": 2
}

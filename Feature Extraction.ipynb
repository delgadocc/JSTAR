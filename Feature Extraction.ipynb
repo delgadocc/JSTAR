{
 "cells": [
  {
   "cell_type": "markdown",
   "metadata": {},
   "source": [
    "# Feature Extraction\n",
    "\n",
    "The dataset are available for [download here](https://javerianacaliedu-my.sharepoint.com/:f:/g/personal/ccdelgado_javerianacali_edu_co/Estk6ZSR0CpEkqADhvUfnHABsrVhkDKPi19S47bdG4T4sg?e=Yo5dQr)."
   ]
  },
  {
   "cell_type": "code",
   "execution_count": 8,
   "metadata": {},
   "outputs": [],
   "source": [
    "# Import libraries\n",
    "import os\n",
    "import glob\n",
    "import numpy as np\n",
    "import pandas as pd\n",
    "import geopandas as gpd\n",
    "import pipeline as pipe\n",
    "\n",
    "from tqdm import tqdm"
   ]
  },
  {
   "cell_type": "code",
   "execution_count": 9,
   "metadata": {},
   "outputs": [],
   "source": [
    "#Directory\n",
    "inDir = r'C:\\Users\\cdelgado\\Downloads'           \n",
    "os.chdir(inDir)"
   ]
  },
  {
   "cell_type": "code",
   "execution_count": 10,
   "metadata": {},
   "outputs": [],
   "source": [
    "#Files\n",
    "tifFiles = glob.glob('JSTAR-2020\\**\\orthomosaics\\**.tif')\n",
    "CPFiles = glob.glob('JSTAR-2020\\**\\shapes\\**_CP.shp')\n",
    "plotFiles = glob.glob('JSTAR-2020\\**\\shapes\\**_PLOTS.shp')"
   ]
  },
  {
   "cell_type": "code",
   "execution_count": 11,
   "metadata": {},
   "outputs": [
    {
     "name": "stderr",
     "output_type": "stream",
     "text": [
      "\r",
      "0it [00:00, ?it/s]"
     ]
    },
    {
     "name": "stdout",
     "output_type": "stream",
     "text": [
      "Processing dataset:2017B-1\n"
     ]
    },
    {
     "name": "stderr",
     "output_type": "stream",
     "text": [
      "\r",
      "1it [00:29, 29.55s/it]"
     ]
    },
    {
     "name": "stdout",
     "output_type": "stream",
     "text": [
      "Processing dataset:2017B-2\n"
     ]
    },
    {
     "name": "stderr",
     "output_type": "stream",
     "text": [
      "\r",
      "2it [00:55, 28.36s/it]"
     ]
    },
    {
     "name": "stdout",
     "output_type": "stream",
     "text": [
      "Processing dataset:2017B-3\n"
     ]
    },
    {
     "name": "stderr",
     "output_type": "stream",
     "text": [
      "\r",
      "3it [01:22, 28.05s/it]"
     ]
    },
    {
     "name": "stdout",
     "output_type": "stream",
     "text": [
      "Processing dataset:2017B-4\n"
     ]
    },
    {
     "name": "stderr",
     "output_type": "stream",
     "text": [
      "\r",
      "4it [01:48, 27.47s/it]"
     ]
    },
    {
     "name": "stdout",
     "output_type": "stream",
     "text": [
      "Processing dataset:2018B-1\n"
     ]
    },
    {
     "name": "stderr",
     "output_type": "stream",
     "text": [
      "\r",
      "5it [02:17, 27.76s/it]"
     ]
    },
    {
     "name": "stdout",
     "output_type": "stream",
     "text": [
      "Processing dataset:2019A-1\n"
     ]
    },
    {
     "name": "stderr",
     "output_type": "stream",
     "text": [
      "\r",
      "6it [03:02, 33.06s/it]"
     ]
    },
    {
     "name": "stdout",
     "output_type": "stream",
     "text": [
      "Processing dataset:2019A-2\n"
     ]
    },
    {
     "name": "stderr",
     "output_type": "stream",
     "text": [
      "\r",
      "7it [03:42, 35.22s/it]"
     ]
    },
    {
     "name": "stdout",
     "output_type": "stream",
     "text": [
      "Processing dataset:2019A-3\n"
     ]
    },
    {
     "name": "stderr",
     "output_type": "stream",
     "text": [
      "\r",
      "8it [04:28, 38.38s/it]"
     ]
    },
    {
     "name": "stdout",
     "output_type": "stream",
     "text": [
      "Processing dataset:2019A-4\n"
     ]
    },
    {
     "name": "stderr",
     "output_type": "stream",
     "text": [
      "\r",
      "9it [05:06, 38.26s/it]"
     ]
    },
    {
     "name": "stdout",
     "output_type": "stream",
     "text": [
      "Processing dataset:2019B-1\n"
     ]
    },
    {
     "name": "stderr",
     "output_type": "stream",
     "text": [
      "\r",
      "10it [05:53, 40.76s/it]"
     ]
    },
    {
     "name": "stdout",
     "output_type": "stream",
     "text": [
      "Processing dataset:2019B-2\n"
     ]
    },
    {
     "name": "stderr",
     "output_type": "stream",
     "text": [
      "\r",
      "11it [06:40, 42.72s/it]"
     ]
    },
    {
     "name": "stdout",
     "output_type": "stream",
     "text": [
      "Processing dataset:2019B-3\n"
     ]
    },
    {
     "name": "stderr",
     "output_type": "stream",
     "text": [
      "12it [07:24, 37.04s/it]\n"
     ]
    }
   ],
   "source": [
    "#Do the job!\n",
    "global_stats = pd.DataFrame()\n",
    "\n",
    "for i, imgDir in tqdm(enumerate(tifFiles)):\n",
    "    season = imgDir.split(\"\\\\\")[1]\n",
    "    dataset = imgDir.split(\"\\\\\")[3].split(\".\")[0]\n",
    "    print('Processing dataset:' + dataset)\n",
    "    \n",
    "    #Read image and metadata\n",
    "    img, x_sz, y_sz, n_band, ext, proj, datatype = pipe.readImg(imgDir)\n",
    "    \n",
    "    #Rasterize Panels\n",
    "    Panels_ds = pipe.rasterize(CPFiles[i], y_sz, x_sz, ext, proj, ['ALL_TOUCHED=FALSE', 'ATTRIBUTE=ID'])\n",
    "    roiPanels = Panels_ds.GetRasterBand(1).ReadAsArray().astype(np.uint32)\n",
    "    \n",
    "    #ELC\n",
    "    img_elc = pipe.ELC(img, roiPanels, y_sz, x_sz, n_band, datatype)\n",
    "    \n",
    "    #Crop Masking\n",
    "    Field_ds = pipe.rasterize(plotFiles[i], y_sz, x_sz, ext, proj, ['ALL_TOUCHED=FALSE', 'ATTRIBUTE=PLOT'])\n",
    "    roiField = Field_ds.GetRasterBand(1).ReadAsArray().astype(np.uint32)\n",
    "    \n",
    "    img_field = pipe.createEmpty(y_sz, x_sz, n_band, datatype)\n",
    "    for band in range(n_band):\n",
    "        img_field[:, :, band] = img[:, :, band]*roiField\n",
    "        \n",
    "    CC = pipe.mask(img_field)\n",
    "    \n",
    "    img_crop = pipe.createEmpty(y_sz, x_sz, n_band, datatype)\n",
    "    \n",
    "    for band in range(n_band):\n",
    "        img_crop[:, :, band] = img_elc[:, :, band]*CC  \n",
    "        \n",
    "    #VIs\n",
    "    NDRE = pipe.NVI(img_crop[:, :, 4],img_crop[:, :, 3])\n",
    "    NDVI = pipe.NVI(img_crop[:, :, 4],img_crop[:, :, 2])\n",
    "    GNDVI = pipe.NVI(img_crop[:, :, 4],img_crop[:, :, 1])\n",
    "    BNDVI = pipe.NVI(img_crop[:, :, 4],img_crop[:, :, 0])\n",
    "\n",
    "    ERVI = pipe.NVI(img_crop[:, :, 3],img_crop[:, :, 2])\n",
    "    EGVI = pipe.NVI(img_crop[:, :, 3],img_crop[:, :, 1])\n",
    "    EBVI = pipe.NVI(img_crop[:, :, 3],img_crop[:, :, 0])\n",
    "\n",
    "    GRVI = pipe.NVI(img_crop[:, :, 1],img_crop[:, :, 2])\n",
    "    GBVI = pipe.NVI(img_crop[:, :, 1],img_crop[:, :, 0])\n",
    "    \n",
    "    #Plot Extraction\n",
    "    Indices = [NDRE,NDVI,GNDVI,BNDVI,ERVI,EGVI,EBVI,GRVI,GBVI]\n",
    "    Names = [\"NDRE\",\"NDVI\",\"GNDVI\",\"BNDVI\",\"ERVI\",\"EGVI\",\"EBVI\",\"GRVI\",\"GBVI\"]\n",
    "    \n",
    "    Plot_ds = pipe.rasterize(plotFiles[i], y_sz, x_sz, ext, proj, ['ALL_TOUCHED=FALSE', 'ATTRIBUTE=ID'])\n",
    "    roiPlot = Plot_ds.GetRasterBand(1).ReadAsArray().astype(np.uint32)\n",
    "    Plotdata = gpd.read_file(plotFiles[i]).sort_values(by=['ID'])\n",
    "    \n",
    "    local_stats = pipe.Stats(roiPlot, Indices, Names) \n",
    "    local_stats['SEASON'] = season\n",
    "    local_stats['DATASET'] = dataset\n",
    "    join = Plotdata[[\"ID\",\"TYPE\",\"CLASS\",\"SCORE\"]].merge(local_stats, on='ID', how='inner')\n",
    "    \n",
    "    global_stats=global_stats.append(join, ignore_index=True)\n",
    "    \n",
    "global_stats = global_stats.dropna() \n",
    "global_stats.to_csv('FEATURES.csv', index = True)"
   ]
  },
  {
   "cell_type": "code",
   "execution_count": null,
   "metadata": {},
   "outputs": [],
   "source": []
  }
 ],
 "metadata": {
  "kernelspec": {
   "display_name": "Python [conda env:micasense] *",
   "language": "python",
   "name": "conda-env-micasense-py"
  },
  "language_info": {
   "codemirror_mode": {
    "name": "ipython",
    "version": 3
   },
   "file_extension": ".py",
   "mimetype": "text/x-python",
   "name": "python",
   "nbconvert_exporter": "python",
   "pygments_lexer": "ipython3",
   "version": "3.7.3"
  }
 },
 "nbformat": 4,
 "nbformat_minor": 2
}

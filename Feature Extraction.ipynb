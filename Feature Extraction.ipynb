{
 "cells": [
  {
   "cell_type": "markdown",
   "metadata": {},
   "source": [
    "# Feature Extraction\n",
    "\n",
    "The dataset are available for [download here](https://javerianacaliedu-my.sharepoint.com/:f:/g/personal/ccdelgado_javerianacali_edu_co/Estk6ZSR0CpEkqADhvUfnHABsrVhkDKPi19S47bdG4T4sg?e=Yo5dQr)."
   ]
  },
  {
   "cell_type": "code",
   "execution_count": 5,
   "metadata": {},
   "outputs": [],
   "source": [
    "# Import libraries\n",
    "import os\n",
    "import glob\n",
    "import numpy as np\n",
    "import pandas as pd\n",
    "import geopandas as gpd\n",
    "import pipeline as pipe\n",
    "\n",
    "from tqdm import tqdm"
   ]
  },
  {
   "cell_type": "code",
   "execution_count": 6,
   "metadata": {},
   "outputs": [],
   "source": [
    "#Directory\n",
    "inDir = r'D:\\OneDrive - CGIAR\\MDPI\\V4 - Copy'           \n",
    "os.chdir(inDir)"
   ]
  },
  {
   "cell_type": "code",
   "execution_count": 7,
   "metadata": {},
   "outputs": [],
   "source": [
    "#Files\n",
    "tifFiles = glob.glob('JSTAR-2020\\**\\orthomosaics\\**.tif')\n",
    "CPFiles = glob.glob('JSTAR-2020\\**\\shapes\\**_CP.shp')\n",
    "plotFiles = glob.glob('JSTAR-2020\\**\\shapes\\**_PLOTS.shp')"
   ]
  },
  {
   "cell_type": "code",
   "execution_count": 8,
   "metadata": {},
   "outputs": [
    {
     "name": "stderr",
     "output_type": "stream",
     "text": [
      "\r",
      "0it [00:00, ?it/s]"
     ]
    },
    {
     "name": "stdout",
     "output_type": "stream",
     "text": [
      "Processing dataset:2017B-1\n"
     ]
    },
    {
     "name": "stderr",
     "output_type": "stream",
     "text": [
      "\r",
      "1it [00:40, 40.41s/it]"
     ]
    },
    {
     "name": "stdout",
     "output_type": "stream",
     "text": [
      "Processing dataset:2017B-2\n"
     ]
    },
    {
     "name": "stderr",
     "output_type": "stream",
     "text": [
      "\r",
      "2it [01:19, 39.98s/it]"
     ]
    },
    {
     "name": "stdout",
     "output_type": "stream",
     "text": [
      "Processing dataset:2017B-3\n"
     ]
    },
    {
     "name": "stderr",
     "output_type": "stream",
     "text": [
      "\r",
      "3it [01:53, 38.18s/it]"
     ]
    },
    {
     "name": "stdout",
     "output_type": "stream",
     "text": [
      "Processing dataset:2017B-4\n"
     ]
    },
    {
     "name": "stderr",
     "output_type": "stream",
     "text": [
      "\r",
      "4it [02:25, 36.36s/it]"
     ]
    },
    {
     "name": "stdout",
     "output_type": "stream",
     "text": [
      "Processing dataset:2018B-1\n"
     ]
    },
    {
     "name": "stderr",
     "output_type": "stream",
     "text": [
      "\r",
      "5it [03:05, 37.41s/it]"
     ]
    },
    {
     "name": "stdout",
     "output_type": "stream",
     "text": [
      "Processing dataset:2019A-1\n"
     ]
    },
    {
     "name": "stderr",
     "output_type": "stream",
     "text": [
      "\r",
      "6it [04:03, 43.64s/it]"
     ]
    },
    {
     "name": "stdout",
     "output_type": "stream",
     "text": [
      "Processing dataset:2019A-2\n"
     ]
    },
    {
     "name": "stderr",
     "output_type": "stream",
     "text": [
      "\r",
      "7it [04:54, 45.96s/it]"
     ]
    },
    {
     "name": "stdout",
     "output_type": "stream",
     "text": [
      "Processing dataset:2019A-3\n"
     ]
    },
    {
     "name": "stderr",
     "output_type": "stream",
     "text": [
      "\r",
      "8it [05:51, 49.24s/it]"
     ]
    },
    {
     "name": "stdout",
     "output_type": "stream",
     "text": [
      "Processing dataset:2019A-4\n"
     ]
    },
    {
     "name": "stderr",
     "output_type": "stream",
     "text": [
      "\r",
      "9it [06:46, 50.93s/it]"
     ]
    },
    {
     "name": "stdout",
     "output_type": "stream",
     "text": [
      "Processing dataset:2019B-1\n"
     ]
    },
    {
     "name": "stderr",
     "output_type": "stream",
     "text": [
      "\r",
      "10it [07:46, 53.57s/it]"
     ]
    },
    {
     "name": "stdout",
     "output_type": "stream",
     "text": [
      "Processing dataset:2019B-2\n"
     ]
    },
    {
     "name": "stderr",
     "output_type": "stream",
     "text": [
      "\r",
      "11it [08:56, 58.60s/it]"
     ]
    },
    {
     "name": "stdout",
     "output_type": "stream",
     "text": [
      "Processing dataset:2019B-3\n"
     ]
    },
    {
     "name": "stderr",
     "output_type": "stream",
     "text": [
      "12it [10:05, 50.50s/it]\n"
     ]
    }
   ],
   "source": [
    "#Do the job!\n",
    "NDSI_stats = pd.DataFrame()\n",
    "NDWI_stats = pd.DataFrame()\n",
    " \n",
    "for i, imgDir in tqdm(enumerate(tifFiles)):\n",
    "    season = imgDir.split(\"\\\\\")[1]\n",
    "    dataset = imgDir.split(\"\\\\\")[3].split(\".\")[0]\n",
    "    print('Processing dataset:' + dataset)\n",
    "    \n",
    "    #Read image and metadata\n",
    "    img, x_sz, y_sz, n_band, ext, proj, datatype = pipe.readImg(imgDir)\n",
    "    \n",
    "    #Rasterize Panels\n",
    "    Panels_ds = pipe.rasterize(CPFiles[i], y_sz, x_sz, ext, proj, ['ALL_TOUCHED=FALSE', 'ATTRIBUTE=ID'])\n",
    "    roiPanels = Panels_ds.GetRasterBand(1).ReadAsArray().astype(np.uint32)\n",
    "    \n",
    "    #ELC\n",
    "    img_elc = pipe.ELC(img, roiPanels, y_sz, x_sz, n_band, datatype)\n",
    "    \n",
    "    #Crop masking\n",
    "    Field_ds = pipe.rasterize(plotFiles[i], y_sz, x_sz, ext, proj, ['ALL_TOUCHED=FALSE', 'ATTRIBUTE=PLOT'])\n",
    "    roiField = Field_ds.GetRasterBand(1).ReadAsArray().astype(np.uint32)\n",
    "    \n",
    "    img_field = pipe.createEmpty(y_sz, x_sz, n_band, datatype)\n",
    "    for band in range(n_band):\n",
    "        img_field[:, :, band] = img[:, :, band]*roiField\n",
    "        \n",
    "    CC, soil = pipe.mask(img_field)\n",
    "    \n",
    "    img_crop = pipe.createEmpty(y_sz, x_sz, n_band, datatype)\n",
    "    \n",
    "    for band in range(n_band):\n",
    "        img_crop[:, :, band] = img_elc[:, :, band]*CC  \n",
    "    \n",
    "    img_soil = pipe.createEmpty(y_sz, x_sz, n_band, datatype)\n",
    "    for band in range(n_band): \n",
    "        img_soil[:, :, band] = img_elc[:, :, band]*soil  \n",
    "        \n",
    "    #VIs\n",
    "    NDRE = pipe.NVI(img_crop[:, :, 4],img_crop[:, :, 3], 0, 1)\n",
    "    NDVI = pipe.NVI(img_crop[:, :, 4],img_crop[:, :, 2], 0, 1)\n",
    "    GNDVI = pipe.NVI(img_crop[:, :, 4],img_crop[:, :, 1], 0, 1)\n",
    "    BNDVI = pipe.NVI(img_crop[:, :, 4],img_crop[:, :, 0], 0, 1)\n",
    "\n",
    "    ERVI = pipe.NVI(img_crop[:, :, 3],img_crop[:, :, 2], 0, 1)\n",
    "    EGVI = pipe.NVI(img_crop[:, :, 3],img_crop[:, :, 1], 0, 1)\n",
    "    EBVI = pipe.NVI(img_crop[:, :, 3],img_crop[:, :, 0], 0, 1)\n",
    "\n",
    "    GRVI = pipe.NVI(img_crop[:, :, 1],img_crop[:, :, 2], 0, 1)\n",
    "    GBVI = pipe.NVI(img_crop[:, :, 1],img_crop[:, :, 0], 0, 1)\n",
    "    \n",
    "    #Soil-based VIs\n",
    "    WDVI, PVI, MSAVI2 = pipe.soilVIs(img_soil[:, :, 2],img_soil[:, :, 4],img_crop[:, :, 2],img_crop[:, :, 4], soil)\n",
    "    \n",
    "    #WIs\n",
    "    NDWI = pipe.NVI(img_soil[:, :, 2],img_soil[:, :, 4], -1, 1)\n",
    "    \n",
    "    #VI Plot Extraction\n",
    "    Indices = [NDRE,NDVI,GNDVI,BNDVI,ERVI,EGVI,EBVI,GRVI,GBVI,WDVI, PVI, MSAVI2]\n",
    "    Names = [\"NDRE\",\"NDVI\",\"GNDVI\",\"BNDVI\",\"ERVI\",\"EGVI\",\"EBVI\",\"GRVI\",\"GBVI\",\"WDVI\", \"PVI\", \"MSAVI2\"]\n",
    "    \n",
    "    Plot_ds = pipe.rasterize(plotFiles[i], y_sz, x_sz, ext, proj, ['ALL_TOUCHED=FALSE', 'ATTRIBUTE=ID'])\n",
    "    roiPlot = Plot_ds.GetRasterBand(1).ReadAsArray().astype(np.uint32)\n",
    "    Plotdata = gpd.read_file(plotFiles[i]).sort_values(by=['ID'])\n",
    "    \n",
    "    local_stats = pipe.Stats(roiPlot, Indices, Names) \n",
    "    local_stats['SEASON'] = season\n",
    "    local_stats['DATASET'] = dataset\n",
    "    join = Plotdata[[\"ID\",\"TYPE\",\"CLASS\",\"SCORE\"]].merge(local_stats, on='ID', how='inner')\n",
    "    \n",
    "    NDSI_stats=NDSI_stats.append(join, ignore_index=True)\n",
    "    \n",
    "    #WI Plot Extraction\n",
    "    Indices = [NDWI]\n",
    "    Names = [\"NDWI\"]\n",
    "    \n",
    "    local_stats = pipe.Stats (roiField, Indices, Names) \n",
    "    local_stats['SEASON'] = season\n",
    "    local_stats['DATASET'] = dataset\n",
    "    \n",
    "    NDWI_stats=NDWI_stats.append(local_stats, ignore_index=True)\n",
    "    \n",
    "NDSI_stats = NDSI_stats.dropna() \n",
    "NDWI_stats = NDWI_stats.dropna() \n",
    "\n",
    "#Save the results\n",
    "NDSI_stats.to_csv('NDSI.csv', index = True)\n",
    "NDWI_stats.to_csv('NDWI.csv', index = True)"
   ]
  }
 ],
 "metadata": {
  "kernelspec": {
   "display_name": "Python [conda env:micasense] *",
   "language": "python",
   "name": "conda-env-micasense-py"
  },
  "language_info": {
   "codemirror_mode": {
    "name": "ipython",
    "version": 3
   },
   "file_extension": ".py",
   "mimetype": "text/x-python",
   "name": "python",
   "nbconvert_exporter": "python",
   "pygments_lexer": "ipython3",
   "version": "3.7.3"
  }
 },
 "nbformat": 4,
 "nbformat_minor": 2
}
